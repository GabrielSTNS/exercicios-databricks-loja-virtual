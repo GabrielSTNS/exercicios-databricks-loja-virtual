{
 "cells": [
  {
   "cell_type": "markdown",
   "metadata": {
    "application/vnd.databricks.v1+cell": {
     "cellMetadata": {
      "byteLimit": 2048000,
      "rowLimit": 10000
     },
     "inputWidgets": {},
     "nuid": "0d6a3561-7476-4ab6-87ea-0a81aba14661",
     "showTitle": false,
     "tableResultSettingsMap": {},
     "title": ""
    }
   },
   "source": [
    "####Criando o banco de dados e as tabelas"
   ]
  },
  {
   "cell_type": "code",
   "execution_count": 0,
   "metadata": {
    "application/vnd.databricks.v1+cell": {
     "cellMetadata": {
      "byteLimit": 2048000,
      "rowLimit": 10000
     },
     "inputWidgets": {},
     "nuid": "a3ab2ccc-6438-4c0b-b90c-29b1d2b6b831",
     "showTitle": false,
     "tableResultSettingsMap": {},
     "title": ""
    }
   },
   "outputs": [],
   "source": [
    "CREATE SCHEMA workspace.loja_virtual"
   ]
  },
  {
   "cell_type": "code",
   "execution_count": 0,
   "metadata": {
    "application/vnd.databricks.v1+cell": {
     "cellMetadata": {
      "byteLimit": 2048000,
      "rowLimit": 10000
     },
     "inputWidgets": {},
     "nuid": "61d5dcb6-2c28-4714-b14d-bc743db86d64",
     "showTitle": false,
     "tableResultSettingsMap": {},
     "title": ""
    }
   },
   "outputs": [],
   "source": [
    "-- Tabela de Clientes\n",
    "CREATE OR REPLACE TABLE loja_virtual.clientes (\n",
    "  id_cliente INT,\n",
    "  Nome STRING,\n",
    "  Cidade STRING,\n",
    "  Estado STRING,\n",
    "  data_cadastro DATE\n",
    ");\n",
    "\n",
    "INSERT INTO loja_virtual.clientes VALUES\n",
    "(1, 'Gabriel Santana', 'São Paulo', 'SP', '2000-06-03'), \n",
    "(2, 'Mariana Kaveckis', 'São Paulo', 'SP', '1995-04-07'),\n",
    "(3, 'Andre Paes', 'São Paulo', 'SP', '1995-06-09'),\n",
    "(4, 'Vitor Santos', 'São Paulo', 'SP', '2002-09-22'),\n",
    "(5, 'Michele Santana', 'São Paulo', 'SP', '1988-11-14');\n",
    "\n",
    "-- Tabela de Produtos\n",
    "CREATE OR REPLACE TABLE loja_virtual.produtos (\n",
    "  id_produto INT,\n",
    "  nome_produto STRING,\n",
    "  categoria STRING,\n",
    "  preco DECIMAL(10, 2)\n",
    ");\n",
    "\n",
    "INSERT INTO loja_virtual.produtos VALUES\n",
    "(101, 'Notebook Gamer', 'Eletrônicos', 5500.00),\n",
    "(102, 'Smartphone Pro', 'Eletrônicos', 3200.00),\n",
    "(103, 'Cadeira de Escritório', 'Móveis', 800.00),\n",
    "(104, 'Mesa de Jantar', 'Móveis', 1200.00),\n",
    "(105, 'Livro de Ficção', 'Livros', 50.00);\n",
    "\n",
    "-- Tabela de Vendas\n",
    "CREATE OR REPLACE TABLE loja_virtual.vendas (\n",
    "  id_venda INT,\n",
    "  id_cliente INT,\n",
    "  id_produto INT,\n",
    "  quantidade INT,\n",
    "  data_venda DATE\n",
    ");\n",
    "\n",
    "INSERT INTO loja_virtual.vendas VALUES\n",
    "(1001, 1, 101, 1, '2024-01-20'),\n",
    "(1002, 2, 102, 2, '2024-02-25'),\n",
    "(1003, 1, 103, 1, '2024-03-15'),\n",
    "(1004, 3, 105, 5, '2024-04-10'),\n",
    "(1005, 4, 101, 1, '2024-05-05'),\n",
    "(1006, 2, 104, 1, '2024-05-15'),\n",
    "(1007, 5, 102, 1, '2024-06-01');"
   ]
  },
  {
   "cell_type": "markdown",
   "metadata": {
    "application/vnd.databricks.v1+cell": {
     "cellMetadata": {
      "byteLimit": 2048000,
      "rowLimit": 10000
     },
     "inputWidgets": {},
     "nuid": "4e8ce159-2090-4600-86b8-1c440e5975d5",
     "showTitle": false,
     "tableResultSettingsMap": {},
     "title": ""
    }
   },
   "source": [
    "#####1. Listar todos os clientes cadastrados."
   ]
  },
  {
   "cell_type": "code",
   "execution_count": 0,
   "metadata": {
    "application/vnd.databricks.v1+cell": {
     "cellMetadata": {
      "byteLimit": 2048000,
      "rowLimit": 10000
     },
     "inputWidgets": {},
     "nuid": "55df38b8-d080-46b8-9f16-9032a912311a",
     "showTitle": false,
     "tableResultSettingsMap": {},
     "title": ""
    }
   },
   "outputs": [],
   "source": [
    "SELECT * FROM loja_virtual.clientes"
   ]
  },
  {
   "cell_type": "markdown",
   "metadata": {
    "application/vnd.databricks.v1+cell": {
     "cellMetadata": {
      "byteLimit": 2048000,
      "rowLimit": 10000
     },
     "inputWidgets": {},
     "nuid": "d6e1079f-48d3-4632-b3ee-b50c004d3714",
     "showTitle": false,
     "tableResultSettingsMap": {},
     "title": ""
    }
   },
   "source": [
    "#####2. Quais produtos têm preço superior a R$ 1.000?"
   ]
  },
  {
   "cell_type": "code",
   "execution_count": 0,
   "metadata": {
    "application/vnd.databricks.v1+cell": {
     "cellMetadata": {
      "byteLimit": 2048000,
      "rowLimit": 10000
     },
     "inputWidgets": {},
     "nuid": "0aeca097-13de-4fd5-a015-ac7d0dd57433",
     "showTitle": false,
     "tableResultSettingsMap": {},
     "title": ""
    }
   },
   "outputs": [],
   "source": [
    "SELECT * FROM loja_virtual.produtos\n",
    "WHERE preco > 1000"
   ]
  },
  {
   "cell_type": "markdown",
   "metadata": {
    "application/vnd.databricks.v1+cell": {
     "cellMetadata": {
      "byteLimit": 2048000,
      "rowLimit": 10000
     },
     "inputWidgets": {},
     "nuid": "4e728c1f-d530-4309-89d9-1cf267704ec2",
     "showTitle": false,
     "tableResultSettingsMap": {},
     "title": ""
    }
   },
   "source": [
    "#####3. Quais vendas foram realizadas no mês de maio de 2024?"
   ]
  },
  {
   "cell_type": "code",
   "execution_count": 0,
   "metadata": {
    "application/vnd.databricks.v1+cell": {
     "cellMetadata": {
      "byteLimit": 2048000,
      "rowLimit": 10000
     },
     "inputWidgets": {},
     "nuid": "a10d2a0e-6fed-4f17-a58d-9e282318d079",
     "showTitle": false,
     "tableResultSettingsMap": {},
     "title": ""
    }
   },
   "outputs": [],
   "source": [
    "-- Filtro padrão\n",
    "SELECT * FROM loja_virtual.vendas\n",
    "WHERE data_venda >= '2024-05-01'\n",
    "AND data_venda <= '2024-05-31'"
   ]
  },
  {
   "cell_type": "code",
   "execution_count": 0,
   "metadata": {
    "application/vnd.databricks.v1+cell": {
     "cellMetadata": {
      "byteLimit": 2048000,
      "rowLimit": 10000
     },
     "inputWidgets": {},
     "nuid": "d39c6621-780b-43ce-b62e-16a1d2bad34b",
     "showTitle": false,
     "tableResultSettingsMap": {},
     "title": ""
    }
   },
   "outputs": [],
   "source": [
    "-- Filtro com a função \"EXTRACT\"\n",
    "SELECT * FROM loja_virtual.vendas\n",
    "WHERE EXTRACT(YEAR FROM data_venda) = 2024\n",
    "AND EXTRACT(MONTH FROM data_venda) = 05"
   ]
  },
  {
   "cell_type": "markdown",
   "metadata": {
    "application/vnd.databricks.v1+cell": {
     "cellMetadata": {
      "byteLimit": 2048000,
      "rowLimit": 10000
     },
     "inputWidgets": {},
     "nuid": "ff3004c6-8f85-4166-8875-0584dcdd1695",
     "showTitle": false,
     "tableResultSettingsMap": {},
     "title": ""
    }
   },
   "source": [
    "#####4. Liste o nome dos clientes que compraram algum produto da categoria \"Eletrônicos\"."
   ]
  },
  {
   "cell_type": "code",
   "execution_count": 0,
   "metadata": {
    "application/vnd.databricks.v1+cell": {
     "cellMetadata": {
      "byteLimit": 2048000,
      "rowLimit": 10000
     },
     "inputWidgets": {},
     "nuid": "c9590da7-e756-426f-bbd7-26d0886112fa",
     "showTitle": false,
     "tableResultSettingsMap": {},
     "title": ""
    }
   },
   "outputs": [],
   "source": [
    "SELECT\n",
    "c.Nome,\n",
    "p.categoria,\n",
    "p.nome_produto\n",
    "FROM loja_virtual.clientes c\n",
    "\n",
    "JOIN loja_virtual.vendas v\n",
    "    ON c.id_cliente = v.id_cliente\n",
    "\n",
    "JOIN loja_virtual.produtos p\n",
    "    ON v.id_produto = p.id_produto\n",
    "\n",
    "WHERE p.categoria = 'Eletrônicos'"
   ]
  },
  {
   "cell_type": "markdown",
   "metadata": {
    "application/vnd.databricks.v1+cell": {
     "cellMetadata": {
      "byteLimit": 2048000,
      "rowLimit": 10000
     },
     "inputWidgets": {},
     "nuid": "e872fea9-edf8-4420-a448-d35d9f96bcba",
     "showTitle": false,
     "tableResultSettingsMap": {},
     "title": ""
    }
   },
   "source": [
    "#####5. Quantos produtos cada cliente comprou no total?\n"
   ]
  },
  {
   "cell_type": "code",
   "execution_count": 0,
   "metadata": {
    "application/vnd.databricks.v1+cell": {
     "cellMetadata": {
      "byteLimit": 2048000,
      "rowLimit": 10000
     },
     "inputWidgets": {},
     "nuid": "78831faf-bbb7-42b2-ae6e-83f7fac6349a",
     "showTitle": false,
     "tableResultSettingsMap": {},
     "title": ""
    }
   },
   "outputs": [],
   "source": [
    "SELECT\n",
    "c.Nome,\n",
    "COUNT(v.id_produto) AS Produtos_totais_comprados\n",
    "FROM loja_virtual.clientes c\n",
    "\n",
    "JOIN loja_virtual.vendas v\n",
    "    ON c.id_cliente = v.id_cliente\n",
    "\n",
    "GROUP BY c.Nome\n",
    "ORDER BY Produtos_totais_comprados DESC"
   ]
  },
  {
   "cell_type": "markdown",
   "metadata": {
    "application/vnd.databricks.v1+cell": {
     "cellMetadata": {
      "byteLimit": 2048000,
      "rowLimit": 10000
     },
     "inputWidgets": {},
     "nuid": "b6eab2f7-ad67-45a3-90d5-57a5e4d1be81",
     "showTitle": false,
     "tableResultSettingsMap": {},
     "title": ""
    }
   },
   "source": [
    "#####6. Qual foi o valor total vendido por categoria de produto?\n"
   ]
  },
  {
   "cell_type": "code",
   "execution_count": 0,
   "metadata": {
    "application/vnd.databricks.v1+cell": {
     "cellMetadata": {
      "byteLimit": 2048000,
      "rowLimit": 10000
     },
     "inputWidgets": {},
     "nuid": "70dca56f-1460-4cac-90c5-9df21611345f",
     "showTitle": false,
     "tableResultSettingsMap": {},
     "title": ""
    }
   },
   "outputs": [],
   "source": [
    "SELECT\n",
    "p.categoria,\n",
    "SUM(p.preco * v.quantidade) AS Valor_Total_Vendido\n",
    "FROM loja_virtual.produtos p\n",
    "\n",
    "JOIN loja_virtual.vendas v\n",
    "    ON p.id_produto = v.id_produto\n",
    "\n",
    "GROUP BY p.categoria"
   ]
  },
  {
   "cell_type": "markdown",
   "metadata": {
    "application/vnd.databricks.v1+cell": {
     "cellMetadata": {
      "byteLimit": 2048000,
      "rowLimit": 10000
     },
     "inputWidgets": {},
     "nuid": "8b59a03b-a699-47bb-babd-e36c8e10ec82",
     "showTitle": false,
     "tableResultSettingsMap": {},
     "title": ""
    }
   },
   "source": [
    "#####7. Quais clientes nunca realizaram uma compra?"
   ]
  },
  {
   "cell_type": "code",
   "execution_count": 0,
   "metadata": {
    "application/vnd.databricks.v1+cell": {
     "cellMetadata": {
      "byteLimit": 2048000,
      "rowLimit": 10000
     },
     "inputWidgets": {},
     "nuid": "37c62f13-255f-47d8-b306-d15571fe6034",
     "showTitle": false,
     "tableResultSettingsMap": {},
     "title": ""
    }
   },
   "outputs": [],
   "source": [
    "SELECT\n",
    "c.Nome,\n",
    "c.id_cliente\n",
    "FROM loja_virtual.clientes c\n",
    "\n",
    "LEFT JOIN loja_virtual.vendas v\n",
    "    ON c.id_cliente = v.id_cliente\n",
    "    WHERE v.id_produto IS NULL"
   ]
  },
  {
   "cell_type": "markdown",
   "metadata": {
    "application/vnd.databricks.v1+cell": {
     "cellMetadata": {
      "byteLimit": 2048000,
      "rowLimit": 10000
     },
     "inputWidgets": {},
     "nuid": "03496ba5-159e-4607-8528-ad12c09d2a19",
     "showTitle": false,
     "tableResultSettingsMap": {},
     "title": ""
    }
   },
   "source": [
    "#####8. Qual foi o total gasto por cada cliente em suas compras?\n"
   ]
  },
  {
   "cell_type": "code",
   "execution_count": 0,
   "metadata": {
    "application/vnd.databricks.v1+cell": {
     "cellMetadata": {
      "byteLimit": 2048000,
      "rowLimit": 10000
     },
     "inputWidgets": {},
     "nuid": "fd9fad99-ec2a-4445-8a54-9e91418f95c3",
     "showTitle": false,
     "tableResultSettingsMap": {},
     "title": ""
    }
   },
   "outputs": [],
   "source": [
    "SELECT\n",
    "c.id_cliente,\n",
    "c.Nome,\n",
    "SUM(v.quantidade * p.preco) AS Valor_Total_Por_Cliente\n",
    "FROM loja_virtual.clientes c\n",
    "\n",
    "JOIN loja_virtual.vendas v\n",
    "    ON c.id_cliente = v.id_cliente\n",
    "\n",
    "JOIN loja_virtual.produtos p\n",
    "    ON v.id_produto = p.id_produto\n",
    "\n",
    "GROUP BY c.Nome,c.id_cliente\n",
    "ORDER BY Valor_Total_Por_Cliente DESC"
   ]
  },
  {
   "cell_type": "markdown",
   "metadata": {
    "application/vnd.databricks.v1+cell": {
     "cellMetadata": {
      "byteLimit": 2048000,
      "rowLimit": 10000
     },
     "inputWidgets": {},
     "nuid": "f1af99a4-3a6e-45ca-9f5f-3e417f998dfd",
     "showTitle": false,
     "tableResultSettingsMap": {},
     "title": ""
    }
   },
   "source": [
    "#####9. Mostre os produtos que nunca foram vendidos.\n"
   ]
  },
  {
   "cell_type": "code",
   "execution_count": 0,
   "metadata": {
    "application/vnd.databricks.v1+cell": {
     "cellMetadata": {
      "byteLimit": 2048000,
      "rowLimit": 10000
     },
     "inputWidgets": {},
     "nuid": "f0f59a12-88d1-4a12-b373-29e585d241fe",
     "showTitle": false,
     "tableResultSettingsMap": {},
     "title": ""
    }
   },
   "outputs": [],
   "source": [
    "SELECT\n",
    "p.nome_produto,\n",
    "p.categoria\n",
    "FROM loja_virtual.produtos p\n",
    "\n",
    "LEFT JOIN loja_virtual.vendas v\n",
    "    ON p.id_produto = v.id_produto\n",
    "    WHERE v.id_venda IS NULL"
   ]
  },
  {
   "cell_type": "markdown",
   "metadata": {
    "application/vnd.databricks.v1+cell": {
     "cellMetadata": {
      "byteLimit": 2048000,
      "rowLimit": 10000
     },
     "inputWidgets": {},
     "nuid": "64980430-7559-4891-ab95-fe5311206c03",
     "showTitle": false,
     "tableResultSettingsMap": {},
     "title": ""
    }
   },
   "source": [
    "#####10. Liste as vendas realizadas por clientes do estado de SP, ordenadas da mais recente para a mais antiga.\n"
   ]
  },
  {
   "cell_type": "code",
   "execution_count": 0,
   "metadata": {
    "application/vnd.databricks.v1+cell": {
     "cellMetadata": {
      "byteLimit": 2048000,
      "rowLimit": 10000
     },
     "inputWidgets": {},
     "nuid": "27fd1810-27b4-450b-9529-5c941d0b8dde",
     "showTitle": false,
     "tableResultSettingsMap": {},
     "title": ""
    }
   },
   "outputs": [],
   "source": [
    "SELECT\n",
    "v.id_venda,\n",
    "c.Nome AS nome_cliente,\n",
    "c.Estado,\n",
    "v.id_produto,\n",
    "v.quantidade,\n",
    "v.data_venda\n",
    "FROM loja_virtual.vendas v\n",
    "JOIN loja_virtual.clientes c\n",
    "  ON v.id_cliente = c.id_cliente\n",
    "WHERE c.Estado = 'SP'\n",
    "ORDER BY v.data_venda DESC;\n"
   ]
  }
 ],
 "metadata": {
  "application/vnd.databricks.v1+notebook": {
   "computePreferences": null,
   "dashboards": [],
   "environmentMetadata": {
    "base_environment": "",
    "environment_version": "2"
   },
   "inputWidgetPreferences": null,
   "language": "sql",
   "notebookMetadata": {
    "pythonIndentUnit": 4
   },
   "notebookName": "Exercícios Loja Virtual",
   "widgets": {}
  },
  "language_info": {
   "name": "sql"
  }
 },
 "nbformat": 4,
 "nbformat_minor": 0
}
